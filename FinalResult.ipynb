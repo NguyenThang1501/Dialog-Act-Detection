{
  "nbformat": 4,
  "nbformat_minor": 0,
  "metadata": {
    "colab": {
      "provenance": []
    },
    "kernelspec": {
      "name": "python3",
      "display_name": "Python 3"
    },
    "language_info": {
      "name": "python"
    }
  },
  "cells": [
    {
      "cell_type": "code",
      "source": [
        "from tensorflow.keras.models import load_model\n",
        "from tensorflow.keras.preprocessing.sequence import pad_sequences\n",
        "from tensorflow.keras.preprocessing.text import tokenizer_from_json\n",
        "from sklearn.preprocessing import LabelEncoder\n",
        "import numpy as np\n",
        "import json\n",
        "import pickle\n",
        "\n",
        "# Mô hình dialog act\n",
        "dialog_act_model = load_model('/content/trained_model1.h5')\n",
        "\n",
        "with open('/content/tokenizer.pkl', 'rb') as handle:\n",
        "    tokenizer = pickle.load(handle)\n",
        "\n",
        "with open('/content/metadata.json', 'r') as f:\n",
        "    metadata = json.load(f)\n",
        "    unique_labels = metadata['unique_labels']\n",
        "    max_len = metadata['max_len']\n",
        "\n",
        "# Mô hình BIO\n",
        "bio_model = load_model('/content/model_tag.h5')\n",
        "\n",
        "with open('/content/tokenizer.json', 'r', encoding='utf-8') as f:\n",
        "    tokenizer_json = json.load(f)\n",
        "tokenizer_bio = tokenizer_from_json(tokenizer_json)\n",
        "\n",
        "with open('/content/tag_encoder.json', 'r', encoding='utf-8') as f:\n",
        "    tag_encoder_classes = json.load(f)\n",
        "tag_encoder = LabelEncoder()\n",
        "tag_encoder.classes_ = np.array(tag_encoder_classes)\n",
        "\n",
        "with open('/content/max_len.json', 'r', encoding='utf-8') as f:\n",
        "    max_len_bio = json.load(f)['max_len']\n",
        "\n",
        "new_sentence = \"I would like to book a room for three people on Monday\"\n",
        "\n",
        "# Dự đoán dialog act\n",
        "new_sentence_tokenized = tokenizer.texts_to_sequences([new_sentence])\n",
        "new_sentence_padded = pad_sequences(new_sentence_tokenized, padding='post', maxlen=max_len)\n",
        "dialog_act_prediction = dialog_act_model.predict(new_sentence_padded)\n",
        "predicted_dialog_acts = [unique_labels[i] for i in range(len(dialog_act_prediction[0])) if dialog_act_prediction[0][i] >= 0.5]\n",
        "\n",
        "# Dự đoán nhãn BIO\n",
        "new_sentence_seq_bio = tokenizer_bio.texts_to_sequences([new_sentence])\n",
        "new_sentence_seq_padded_bio = pad_sequences(new_sentence_seq_bio, padding='post', maxlen=max_len_bio)\n",
        "bio_predictions = bio_model.predict(new_sentence_seq_padded_bio)\n",
        "predicted_tags = np.argmax(bio_predictions, axis=-1)\n",
        "predicted_bio_tags = tag_encoder.inverse_transform(predicted_tags[0])\n",
        "\n",
        "# Kết quả dialog_act(slot: value)\n",
        "slots = {}\n",
        "current_slot = None\n",
        "current_value = []\n",
        "\n",
        "for word, tag in zip(new_sentence.split(), predicted_bio_tags):\n",
        "    if tag.startswith(\"B-\"):\n",
        "        if current_slot:\n",
        "            slots[current_slot] = \" \".join(current_value)\n",
        "        current_slot = tag[2:]\n",
        "        current_value = [word]\n",
        "    elif tag.startswith(\"I-\") and current_slot:\n",
        "        current_value.append(word)\n",
        "    else:\n",
        "        if current_slot:\n",
        "            slots[current_slot] = \" \".join(current_value)\n",
        "        current_slot = None\n",
        "        current_value = []\n",
        "\n",
        "if current_slot:\n",
        "    slots[current_slot] = \" \".join(current_value)\n",
        "\n",
        "# In kết quả\n",
        "for act in predicted_dialog_acts:\n",
        "    slot_values = \", \".join([f\"{slot}: {value}\" for slot, value in slots.items()])\n",
        "    print(f\"{act}({slot_values})\")\n"
      ],
      "metadata": {
        "colab": {
          "base_uri": "https://localhost:8080/"
        },
        "id": "DsO92ooS6MzA",
        "outputId": "b078f4a9-dd2d-4a03-a0e5-d179de53f55e"
      },
      "execution_count": 7,
      "outputs": [
        {
          "output_type": "stream",
          "name": "stderr",
          "text": [
            "WARNING:absl:Compiled the loaded model, but the compiled metrics have yet to be built. `model.compile_metrics` will be empty until you train or evaluate the model.\n",
            "WARNING:absl:Compiled the loaded model, but the compiled metrics have yet to be built. `model.compile_metrics` will be empty until you train or evaluate the model.\n"
          ]
        },
        {
          "output_type": "stream",
          "name": "stdout",
          "text": [
            "\u001b[1m1/1\u001b[0m \u001b[32m━━━━━━━━━━━━━━━━━━━━\u001b[0m\u001b[37m\u001b[0m \u001b[1m1s\u001b[0m 818ms/step\n",
            "\u001b[1m1/1\u001b[0m \u001b[32m━━━━━━━━━━━━━━━━━━━━\u001b[0m\u001b[37m\u001b[0m \u001b[1m1s\u001b[0m 715ms/step\n",
            "Hotel-Inform(bookpeople: three, bookday: Monday)\n"
          ]
        }
      ]
    }
  ]
}