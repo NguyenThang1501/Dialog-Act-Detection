{
 "cells": [
  {
   "cell_type": "code",
   "execution_count": 1,
   "metadata": {
    "_cell_guid": "b1076dfc-b9ad-4769-8c92-a6c4dae69d19",
    "_uuid": "8f2839f25d086af736a60e9eeb907d3b93b6e0e5",
    "execution": {
     "iopub.execute_input": "2024-12-31T01:47:53.445090Z",
     "iopub.status.busy": "2024-12-31T01:47:53.444786Z",
     "iopub.status.idle": "2024-12-31T01:48:03.153065Z",
     "shell.execute_reply": "2024-12-31T01:48:03.152180Z",
     "shell.execute_reply.started": "2024-12-31T01:47:53.445061Z"
    },
    "trusted": true
   },
   "outputs": [],
   "source": [
    "import pandas as pd\n",
    "import json\n",
    "import numpy as np\n",
    "from tensorflow.keras.preprocessing.text import Tokenizer\n",
    "from keras.utils import pad_sequences\n",
    "from sklearn.preprocessing import LabelEncoder\n",
    "from sklearn.model_selection import train_test_split\n",
    "from tensorflow.keras.models import Sequential\n",
    "from tensorflow.keras.layers import Embedding, Bidirectional, LSTM, Dense, Dropout\n",
    "from sklearn.metrics import classification_report\n",
    "from tensorflow.keras.callbacks import EarlyStopping, ModelCheckpoint"
   ]
  },
  {
   "cell_type": "code",
   "execution_count": 2,
   "metadata": {
    "execution": {
     "iopub.execute_input": "2024-12-31T01:48:03.154412Z",
     "iopub.status.busy": "2024-12-31T01:48:03.153815Z",
     "iopub.status.idle": "2024-12-31T01:48:03.158994Z",
     "shell.execute_reply": "2024-12-31T01:48:03.157983Z",
     "shell.execute_reply.started": "2024-12-31T01:48:03.154389Z"
    },
    "trusted": true
   },
   "outputs": [],
   "source": [
    "def load_data(file_path):\n",
    "    with open(file_path, 'r', encoding='utf-8') as f:\n",
    "        data = json.load(f)\n",
    "    df = pd.DataFrame(data)\n",
    "    sentences = df['sentence'].tolist()\n",
    "    bio_tags = []\n",
    "    for labels in df['labels']:\n",
    "        tags = [token[1] for token in labels]\n",
    "        bio_tags.append(tags)\n",
    "    return sentences, bio_tags"
   ]
  },
  {
   "cell_type": "markdown",
   "metadata": {},
   "source": [
    "### **1. Tiền xử lý dữ liệu cho mô hình**"
   ]
  },
  {
   "cell_type": "code",
   "execution_count": 3,
   "metadata": {
    "execution": {
     "iopub.execute_input": "2024-12-31T01:48:03.160033Z",
     "iopub.status.busy": "2024-12-31T01:48:03.159740Z",
     "iopub.status.idle": "2024-12-31T01:48:11.460972Z",
     "shell.execute_reply": "2024-12-31T01:48:11.460268Z",
     "shell.execute_reply.started": "2024-12-31T01:48:03.160012Z"
    },
    "trusted": true
   },
   "outputs": [],
   "source": [
    "train_file = '/kaggle/input/bio-data-dialog/train_output.json'\n",
    "val_file = '/kaggle/input/bio-data-dialog/val_output.json'\n",
    "test_file = '/kaggle/input/bio-data-dialog/test_output.json'\n",
    "\n",
    "train_sentences, train_bio_tags = load_data(train_file)\n",
    "val_sentences, val_bio_tags = load_data(val_file)\n",
    "test_sentences, test_bio_tags = load_data(test_file)\n",
    "\n",
    "# Tokenize và chuẩn hóa dữ liệu\n",
    "tokenizer = Tokenizer()\n",
    "tokenizer.fit_on_texts(train_sentences + val_sentences + test_sentences)\n",
    "X_train = tokenizer.texts_to_sequences(train_sentences)\n",
    "X_val = tokenizer.texts_to_sequences(val_sentences)\n",
    "X_test = tokenizer.texts_to_sequences(test_sentences)\n",
    "\n",
    "# Padding cho dữ liệu đầu vào\n",
    "max_len = max([len(s.split()) for s in train_sentences + val_sentences + test_sentences])  # Tính độ dài câu dài nhất\n",
    "X_train = pad_sequences(X_train, padding='post', maxlen=max_len)\n",
    "X_val = pad_sequences(X_val, padding='post', maxlen=max_len)\n",
    "X_test = pad_sequences(X_test, padding='post', maxlen=max_len)\n",
    "\n",
    "# Label encoding cho BIO tags\n",
    "tag_encoder = LabelEncoder()\n",
    "all_tags = [tag for tags in train_bio_tags + val_bio_tags + test_bio_tags for tag in tags]\n",
    "unique_tags = set(all_tags)\n",
    "tag_encoder.fit(list(unique_tags))\n",
    "\n",
    "# Chuyển đổi nhãn thành các chỉ số\n",
    "y_train = [tag_encoder.transform(tags) for tags in train_bio_tags]\n",
    "y_val = [tag_encoder.transform(tags) for tags in val_bio_tags]\n",
    "y_test = [tag_encoder.transform(tags) for tags in test_bio_tags]\n",
    "\n",
    "# Padding cho nhãn\n",
    "y_train = pad_sequences(y_train, padding='post', maxlen=max_len)\n",
    "y_val = pad_sequences(y_val, padding='post', maxlen=max_len)\n",
    "y_test = pad_sequences(y_test, padding='post', maxlen=max_len)"
   ]
  },
  {
   "cell_type": "markdown",
   "metadata": {},
   "source": [
    "### **2. Xây dựng mô hình**"
   ]
  },
  {
   "cell_type": "code",
   "execution_count": 4,
   "metadata": {
    "execution": {
     "iopub.execute_input": "2024-12-31T01:48:11.462882Z",
     "iopub.status.busy": "2024-12-31T01:48:11.462663Z",
     "iopub.status.idle": "2024-12-31T01:50:08.377185Z",
     "shell.execute_reply": "2024-12-31T01:50:08.376458Z",
     "shell.execute_reply.started": "2024-12-31T01:48:11.462863Z"
    },
    "trusted": true
   },
   "outputs": [
    {
     "name": "stderr",
     "output_type": "stream",
     "text": [
      "/usr/local/lib/python3.10/dist-packages/keras/src/layers/core/embedding.py:90: UserWarning: Argument `input_length` is deprecated. Just remove it.\n",
      "  warnings.warn(\n"
     ]
    },
    {
     "name": "stdout",
     "output_type": "stream",
     "text": [
      "Epoch 1/100\n",
      "\u001b[1m1775/1775\u001b[0m \u001b[32m━━━━━━━━━━━━━━━━━━━━\u001b[0m\u001b[37m\u001b[0m \u001b[1m18s\u001b[0m 7ms/step - accuracy: 0.9552 - loss: 0.2274 - val_accuracy: 0.9912 - val_loss: 0.0323\n",
      "Epoch 2/100\n",
      "\u001b[1m1775/1775\u001b[0m \u001b[32m━━━━━━━━━━━━━━━━━━━━\u001b[0m\u001b[37m\u001b[0m \u001b[1m12s\u001b[0m 7ms/step - accuracy: 0.9917 - loss: 0.0290 - val_accuracy: 0.9925 - val_loss: 0.0275\n",
      "Epoch 3/100\n",
      "\u001b[1m1775/1775\u001b[0m \u001b[32m━━━━━━━━━━━━━━━━━━━━\u001b[0m\u001b[37m\u001b[0m \u001b[1m12s\u001b[0m 7ms/step - accuracy: 0.9928 - loss: 0.0245 - val_accuracy: 0.9929 - val_loss: 0.0247\n",
      "Epoch 4/100\n",
      "\u001b[1m1775/1775\u001b[0m \u001b[32m━━━━━━━━━━━━━━━━━━━━\u001b[0m\u001b[37m\u001b[0m \u001b[1m12s\u001b[0m 7ms/step - accuracy: 0.9933 - loss: 0.0221 - val_accuracy: 0.9931 - val_loss: 0.0240\n",
      "Epoch 5/100\n",
      "\u001b[1m1775/1775\u001b[0m \u001b[32m━━━━━━━━━━━━━━━━━━━━\u001b[0m\u001b[37m\u001b[0m \u001b[1m12s\u001b[0m 7ms/step - accuracy: 0.9936 - loss: 0.0204 - val_accuracy: 0.9933 - val_loss: 0.0237\n",
      "Epoch 6/100\n",
      "\u001b[1m1775/1775\u001b[0m \u001b[32m━━━━━━━━━━━━━━━━━━━━\u001b[0m\u001b[37m\u001b[0m \u001b[1m12s\u001b[0m 7ms/step - accuracy: 0.9941 - loss: 0.0191 - val_accuracy: 0.9934 - val_loss: 0.0231\n",
      "Epoch 7/100\n",
      "\u001b[1m1775/1775\u001b[0m \u001b[32m━━━━━━━━━━━━━━━━━━━━\u001b[0m\u001b[37m\u001b[0m \u001b[1m12s\u001b[0m 7ms/step - accuracy: 0.9943 - loss: 0.0182 - val_accuracy: 0.9934 - val_loss: 0.0235\n",
      "Epoch 8/100\n",
      "\u001b[1m1775/1775\u001b[0m \u001b[32m━━━━━━━━━━━━━━━━━━━━\u001b[0m\u001b[37m\u001b[0m \u001b[1m12s\u001b[0m 7ms/step - accuracy: 0.9945 - loss: 0.0176 - val_accuracy: 0.9932 - val_loss: 0.0235\n",
      "Epoch 9/100\n",
      "\u001b[1m1775/1775\u001b[0m \u001b[32m━━━━━━━━━━━━━━━━━━━━\u001b[0m\u001b[37m\u001b[0m \u001b[1m12s\u001b[0m 7ms/step - accuracy: 0.9946 - loss: 0.0171 - val_accuracy: 0.9933 - val_loss: 0.0236\n"
     ]
    }
   ],
   "source": [
    "embedding_dim = 100\n",
    "model = Sequential()\n",
    "model.add(Embedding(input_dim=len(tokenizer.word_index) + 1, output_dim=embedding_dim, input_length=X_train.shape[1]))\n",
    "model.add(Bidirectional(LSTM(units=64, return_sequences=True)))\n",
    "model.add(Dropout(0.1))\n",
    "model.add(Dense(len(tag_encoder.classes_), activation='softmax'))\n",
    "\n",
    "model.compile(optimizer='adam', loss='sparse_categorical_crossentropy', metrics=['accuracy'])\n",
    "\n",
    "early_stopping = EarlyStopping(monitor='val_loss', patience=3, restore_best_weights=True)\n",
    "\n",
    "history = model.fit(\n",
    "    X_train, \n",
    "    np.expand_dims(y_train, -1),  \n",
    "    validation_data=(X_val, np.expand_dims(y_val, -1)),  \n",
    "    epochs=100,\n",
    "    batch_size=32,  \n",
    "    callbacks=[early_stopping]  \n",
    ")"
   ]
  },
  {
   "cell_type": "code",
   "execution_count": 5,
   "metadata": {
    "execution": {
     "iopub.execute_input": "2024-12-31T01:50:08.378822Z",
     "iopub.status.busy": "2024-12-31T01:50:08.378584Z",
     "iopub.status.idle": "2024-12-31T01:50:08.992098Z",
     "shell.execute_reply": "2024-12-31T01:50:08.991366Z",
     "shell.execute_reply.started": "2024-12-31T01:50:08.378802Z"
    },
    "trusted": true
   },
   "outputs": [
    {
     "data": {
      "image/png": "[encoded data removed]",
      "text/plain": [
       "<Figure size 1200x600 with 2 Axes>"
      ]
     },
     "metadata": {},
     "output_type": "display_data"
    }
   ],
   "source": [
    "import matplotlib.pyplot as plt\n",
    "train_accuracy = history.history['accuracy']\n",
    "val_accuracy = history.history['val_accuracy']\n",
    "train_loss = history.history['loss']\n",
    "val_loss = history.history['val_loss']\n",
    "\n",
    "plt.figure(figsize=(12, 6))\n",
    "\n",
    "plt.subplot(1, 2, 1)\n",
    "plt.plot(train_accuracy, label='Train Accuracy')\n",
    "plt.plot(val_accuracy, label='Validation Accuracy')\n",
    "plt.title('Model Accuracy')\n",
    "plt.xlabel('Epochs')\n",
    "plt.ylabel('Accuracy')\n",
    "plt.legend()\n",
    "\n",
    "plt.subplot(1, 2, 2)\n",
    "plt.plot(train_loss, label='Train Loss')\n",
    "plt.plot(val_loss, label='Validation Loss')\n",
    "plt.title('Model Loss')\n",
    "plt.xlabel('Epochs')\n",
    "plt.ylabel('Loss')\n",
    "plt.legend()\n",
    "\n",
    "plt.tight_layout()\n",
    "plt.show()\n"
   ]
  },
  {
   "cell_type": "markdown",
   "metadata": {},
   "source": [
    "### **3. Đánh giá mô hình trên tập test**"
   ]
  },
  {
   "cell_type": "code",
   "execution_count": 6,
   "metadata": {
    "execution": {
     "iopub.execute_input": "2024-12-31T01:50:08.993060Z",
     "iopub.status.busy": "2024-12-31T01:50:08.992817Z",
     "iopub.status.idle": "2024-12-31T01:50:10.581046Z",
     "shell.execute_reply": "2024-12-31T01:50:10.580000Z",
     "shell.execute_reply.started": "2024-12-31T01:50:08.993028Z"
    },
    "trusted": true
   },
   "outputs": [
    {
     "name": "stdout",
     "output_type": "stream",
     "text": [
      "\u001b[1m231/231\u001b[0m \u001b[32m━━━━━━━━━━━━━━━━━━━━\u001b[0m\u001b[37m\u001b[0m \u001b[1m1s\u001b[0m 3ms/step\n",
      "Classification Report:\n",
      "               precision    recall  f1-score   support\n",
      "\n",
      "       B-area       0.00      0.00      0.00         0\n",
      "   B-arriveby       0.92      0.92      0.92       388\n",
      "    B-bookday       0.90      0.95      0.92       528\n",
      " B-bookpeople       0.90      0.94      0.92       791\n",
      "   B-bookstay       0.88      0.90      0.89       301\n",
      "   B-booktime       0.93      0.91      0.92       335\n",
      "        B-day       0.93      0.96      0.95       503\n",
      " B-department       0.94      0.93      0.94       547\n",
      "  B-departure       0.90      0.91      0.90       586\n",
      "B-destination       0.91      0.91      0.91       422\n",
      "B-entrancefee       0.91      0.84      0.87       348\n",
      "       B-food       0.86      0.84      0.85       447\n",
      "    B-leaveat       0.91      0.93      0.92       557\n",
      "       B-name       0.94      0.97      0.95       203\n",
      " B-pricerange       0.84      0.71      0.77       571\n",
      "      B-stars       0.76      0.48      0.59        92\n",
      "       B-type       0.00      0.00      0.00         6\n",
      "       I-area       0.84      0.95      0.89        22\n",
      "   I-arriveby       0.86      0.99      0.92        67\n",
      "    I-bookday       0.50      0.12      0.20         8\n",
      " I-bookpeople       0.82      0.75      0.78        12\n",
      "   I-bookstay       0.92      0.90      0.91       325\n",
      "   I-booktime       0.86      0.90      0.88       334\n",
      "        I-day       0.89      0.44      0.59        54\n",
      " I-department       0.75      0.14      0.23        22\n",
      "  I-departure       0.88      0.88      0.88       647\n",
      "I-destination       1.00      0.22      0.36        32\n",
      "I-entrancefee       0.94      0.56      0.70        27\n",
      "       I-food       0.99      0.99      0.99     77582\n",
      "\n",
      "     accuracy                           0.98     85757\n",
      "    macro avg       0.82      0.72      0.74     85757\n",
      " weighted avg       0.98      0.98      0.98     85757\n",
      "\n"
     ]
    },
    {
     "name": "stderr",
     "output_type": "stream",
     "text": [
      "/usr/local/lib/python3.10/dist-packages/sklearn/metrics/_classification.py:2326: UserWarning: labels size, 29, does not match size of target_names, 34\n",
      "  warnings.warn(\n",
      "/usr/local/lib/python3.10/dist-packages/sklearn/metrics/_classification.py:1344: UndefinedMetricWarning: Precision and F-score are ill-defined and being set to 0.0 in labels with no predicted samples. Use `zero_division` parameter to control this behavior.\n",
      "  _warn_prf(average, modifier, msg_start, len(result))\n",
      "/usr/local/lib/python3.10/dist-packages/sklearn/metrics/_classification.py:1344: UndefinedMetricWarning: Recall and F-score are ill-defined and being set to 0.0 in labels with no true samples. Use `zero_division` parameter to control this behavior.\n",
      "  _warn_prf(average, modifier, msg_start, len(result))\n",
      "/usr/local/lib/python3.10/dist-packages/sklearn/metrics/_classification.py:1344: UndefinedMetricWarning: Precision and F-score are ill-defined and being set to 0.0 in labels with no predicted samples. Use `zero_division` parameter to control this behavior.\n",
      "  _warn_prf(average, modifier, msg_start, len(result))\n",
      "/usr/local/lib/python3.10/dist-packages/sklearn/metrics/_classification.py:1344: UndefinedMetricWarning: Recall and F-score are ill-defined and being set to 0.0 in labels with no true samples. Use `zero_division` parameter to control this behavior.\n",
      "  _warn_prf(average, modifier, msg_start, len(result))\n",
      "/usr/local/lib/python3.10/dist-packages/sklearn/metrics/_classification.py:1344: UndefinedMetricWarning: Precision and F-score are ill-defined and being set to 0.0 in labels with no predicted samples. Use `zero_division` parameter to control this behavior.\n",
      "  _warn_prf(average, modifier, msg_start, len(result))\n",
      "/usr/local/lib/python3.10/dist-packages/sklearn/metrics/_classification.py:1344: UndefinedMetricWarning: Recall and F-score are ill-defined and being set to 0.0 in labels with no true samples. Use `zero_division` parameter to control this behavior.\n",
      "  _warn_prf(average, modifier, msg_start, len(result))\n"
     ]
    }
   ],
   "source": [
    "# Đánh giá mô hình trên dữ liệu test\n",
    "predictions = model.predict(X_test)\n",
    "predicted_tags = np.argmax(predictions, axis=-1)\n",
    "\n",
    "y_true_flat = []\n",
    "y_pred_flat = []\n",
    "\n",
    "for true_tags, pred_tags in zip(y_test, predicted_tags):\n",
    "    for true, pred in zip(true_tags, pred_tags):\n",
    "        if true != 0:  \n",
    "            y_true_flat.append(true)\n",
    "            y_pred_flat.append(pred)\n",
    "\n",
    "unique_labels = sorted(set(y_true_flat + y_pred_flat))\n",
    "print(\"Classification Report:\")\n",
    "print(classification_report(y_true_flat, y_pred_flat, target_names=tag_encoder.classes_, labels=unique_labels))"
   ]
  },
  {
   "cell_type": "markdown",
   "metadata": {},
   "source": [
    "Nhận xét: đa số các nhãn cho độ chính xác cao, một số nhãn có số lượng ít hơn trong tập dữ liệu cho kết quả thấp hơn."
   ]
  },
  {
   "cell_type": "markdown",
   "metadata": {},
   "source": [
    "### **4. Lưu lại mô hình đã huấn luyện**"
   ]
  },
  {
   "cell_type": "code",
   "execution_count": 7,
   "metadata": {
    "execution": {
     "iopub.execute_input": "2024-12-31T01:50:10.582418Z",
     "iopub.status.busy": "2024-12-31T01:50:10.582080Z",
     "iopub.status.idle": "2024-12-31T01:50:10.630257Z",
     "shell.execute_reply": "2024-12-31T01:50:10.629627Z",
     "shell.execute_reply.started": "2024-12-31T01:50:10.582384Z"
    },
    "trusted": true
   },
   "outputs": [],
   "source": [
    "model.save('/kaggle/working/model_tag.h5')"
   ]
  },
  {
   "cell_type": "code",
   "execution_count": 8,
   "metadata": {
    "execution": {
     "iopub.execute_input": "2024-12-31T01:50:10.631554Z",
     "iopub.status.busy": "2024-12-31T01:50:10.631211Z",
     "iopub.status.idle": "2024-12-31T01:50:10.651793Z",
     "shell.execute_reply": "2024-12-31T01:50:10.651008Z",
     "shell.execute_reply.started": "2024-12-31T01:50:10.631519Z"
    },
    "trusted": true
   },
   "outputs": [],
   "source": [
    "import json\n",
    "\n",
    "tokenizer_json = tokenizer.to_json()\n",
    "with open('/kaggle/working/tokenizer.json', 'w', encoding='utf-8') as f:\n",
    "    json.dump(tokenizer_json, f)\n"
   ]
  },
  {
   "cell_type": "code",
   "execution_count": 9,
   "metadata": {
    "execution": {
     "iopub.execute_input": "2024-12-31T01:50:10.653054Z",
     "iopub.status.busy": "2024-12-31T01:50:10.652723Z",
     "iopub.status.idle": "2024-12-31T01:50:10.664060Z",
     "shell.execute_reply": "2024-12-31T01:50:10.663415Z",
     "shell.execute_reply.started": "2024-12-31T01:50:10.653023Z"
    },
    "trusted": true
   },
   "outputs": [],
   "source": [
    "\n",
    "with open('/kaggle/working/tag_encoder.json', 'w', encoding='utf-8') as f:\n",
    "    json.dump(tag_encoder.classes_.tolist(), f)\n"
   ]
  },
  {
   "cell_type": "code",
   "execution_count": 10,
   "metadata": {
    "execution": {
     "iopub.execute_input": "2024-12-31T01:50:10.665115Z",
     "iopub.status.busy": "2024-12-31T01:50:10.664861Z",
     "iopub.status.idle": "2024-12-31T01:50:10.678807Z",
     "shell.execute_reply": "2024-12-31T01:50:10.677962Z",
     "shell.execute_reply.started": "2024-12-31T01:50:10.665096Z"
    },
    "trusted": true
   },
   "outputs": [],
   "source": [
    "\n",
    "with open('/kaggle/working/max_len.json', 'w', encoding='utf-8') as f:\n",
    "    json.dump({'max_len': max_len}, f)\n"
   ]
  },
  {
   "cell_type": "markdown",
   "metadata": {},
   "source": [
    "### **5. Sử dụng mô hình đã lưu để dự đoán**"
   ]
  },
  {
   "cell_type": "code",
   "execution_count": 11,
   "metadata": {
    "execution": {
     "iopub.execute_input": "2024-12-31T01:50:10.680073Z",
     "iopub.status.busy": "2024-12-31T01:50:10.679776Z",
     "iopub.status.idle": "2024-12-31T01:50:10.914326Z",
     "shell.execute_reply": "2024-12-31T01:50:10.913435Z",
     "shell.execute_reply.started": "2024-12-31T01:50:10.680044Z"
    },
    "trusted": true
   },
   "outputs": [],
   "source": [
    "from tensorflow.keras.models import load_model\n",
    "from tensorflow.keras.preprocessing.text import tokenizer_from_json\n",
    "import json\n",
    "\n",
    "model = load_model('/kaggle/working/model_tag.h5')\n",
    "\n",
    "with open('/kaggle/working/tokenizer.json', 'r', encoding='utf-8') as f:\n",
    "    tokenizer_json = json.load(f)\n",
    "tokenizer = tokenizer_from_json(tokenizer_json)\n",
    "\n",
    "with open('/kaggle/working/tag_encoder.json', 'r', encoding='utf-8') as f:\n",
    "    tag_encoder_classes = json.load(f)\n",
    "tag_encoder = LabelEncoder()\n",
    "tag_encoder.classes_ = np.array(tag_encoder_classes)\n",
    "\n",
    "with open('/kaggle/working/max_len.json', 'r', encoding='utf-8') as f:\n",
    "    max_len_data = json.load(f)\n",
    "max_len = max_len_data['max_len']\n"
   ]
  },
  {
   "cell_type": "code",
   "execution_count": 13,
   "metadata": {
    "execution": {
     "iopub.execute_input": "2024-12-31T01:51:09.560818Z",
     "iopub.status.busy": "2024-12-31T01:51:09.560542Z",
     "iopub.status.idle": "2024-12-31T01:51:09.624404Z",
     "shell.execute_reply": "2024-12-31T01:51:09.623698Z",
     "shell.execute_reply.started": "2024-12-31T01:51:09.560796Z"
    },
    "trusted": true
   },
   "outputs": [
    {
     "name": "stdout",
     "output_type": "stream",
     "text": [
      "\u001b[1m1/1\u001b[0m \u001b[32m━━━━━━━━━━━━━━━━━━━━\u001b[0m\u001b[37m\u001b[0m \u001b[1m0s\u001b[0m 18ms/step\n",
      "Word: I - Predicted BIO Tag: O\n",
      "Word: would - Predicted BIO Tag: O\n",
      "Word: like - Predicted BIO Tag: O\n",
      "Word: to - Predicted BIO Tag: O\n",
      "Word: book - Predicted BIO Tag: O\n",
      "Word: a - Predicted BIO Tag: O\n",
      "Word: room - Predicted BIO Tag: O\n",
      "Word: for - Predicted BIO Tag: O\n",
      "Word: three - Predicted BIO Tag: B-bookpeople\n",
      "Word: people - Predicted BIO Tag: O\n",
      "Word: on - Predicted BIO Tag: O\n",
      "Word: Monday - Predicted BIO Tag: B-bookday\n"
     ]
    }
   ],
   "source": [
    "new_sentence = \"I would like to book a room for three people on Monday\"\n",
    "\n",
    "new_sentence_seq = tokenizer.texts_to_sequences([new_sentence])\n",
    "new_sentence_seq_padded = pad_sequences(new_sentence_seq, padding='post', maxlen=max_len)\n",
    "\n",
    "predictions = model.predict(new_sentence_seq_padded)\n",
    "predicted_tags = np.argmax(predictions, axis=-1)\n",
    "\n",
    "predicted_bio_tags = tag_encoder.inverse_transform(predicted_tags[0])\n",
    "\n",
    "for word, tag in zip(new_sentence.split(), predicted_bio_tags):\n",
    "    print(f\"Word: {word} - Predicted BIO Tag: {tag}\")\n"
   ]
  }
 ],
 "metadata": {
  "kaggle": {
   "accelerator": "nvidiaTeslaT4",
   "dataSources": [
    {
     "datasetId": 6390386,
     "sourceId": 10321375,
     "sourceType": "datasetVersion"
    }
   ],
   "dockerImageVersionId": 30823,
   "isGpuEnabled": true,
   "isInternetEnabled": true,
   "language": "python",
   "sourceType": "notebook"
  },
  "kernelspec": {
   "display_name": "Python 3",
   "language": "python",
   "name": "python3"
  },
  "language_info": {
   "codemirror_mode": {
    "name": "ipython",
    "version": 3
   },
   "file_extension": ".py",
   "mimetype": "text/x-python",
   "name": "python",
   "nbconvert_exporter": "python",
   "pygments_lexer": "ipython3",
   "version": "3.10.12"
  }
 },
 "nbformat": 4,
 "nbformat_minor": 4
}
