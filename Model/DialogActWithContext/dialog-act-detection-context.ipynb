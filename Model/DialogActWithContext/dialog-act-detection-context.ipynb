{
 "cells": [
  {
   "cell_type": "code",
   "execution_count": 13,
   "metadata": {
    "execution": {
     "iopub.execute_input": "2024-12-31T13:41:02.870820Z",
     "iopub.status.busy": "2024-12-31T13:41:02.870430Z",
     "iopub.status.idle": "2024-12-31T13:41:02.875535Z",
     "shell.execute_reply": "2024-12-31T13:41:02.874718Z",
     "shell.execute_reply.started": "2024-12-31T13:41:02.870792Z"
    },
    "trusted": true
   },
   "outputs": [],
   "source": [
    "import json\n",
    "import pandas as pd\n",
    "import csv\n",
    "from tensorflow.keras.preprocessing.text import Tokenizer\n",
    "from tensorflow.keras.preprocessing.sequence import pad_sequences\n",
    "from sklearn.model_selection import train_test_split\n",
    "from tensorflow.keras.models import Sequential\n",
    "from tensorflow.keras.layers import Embedding, LSTM, Dense, GlobalMaxPooling1D\n",
    "from tensorflow.keras.models import load_model\n",
    "from sklearn.metrics import accuracy_score, precision_score, recall_score, f1_score\n",
    "from tensorflow.keras.callbacks import EarlyStopping"
   ]
  },
  {
   "cell_type": "markdown",
   "metadata": {},
   "source": [
    "### **1. Chuẩn bị dữ liệu cho mô hình**"
   ]
  },
  {
   "cell_type": "code",
   "execution_count": 14,
   "metadata": {
    "execution": {
     "iopub.execute_input": "2024-12-31T13:41:02.877150Z",
     "iopub.status.busy": "2024-12-31T13:41:02.876871Z",
     "iopub.status.idle": "2024-12-31T13:41:02.895439Z",
     "shell.execute_reply": "2024-12-31T13:41:02.894833Z",
     "shell.execute_reply.started": "2024-12-31T13:41:02.877127Z"
    },
    "trusted": true
   },
   "outputs": [],
   "source": [
    "def load_json_data(file_path):\n",
    "    with open(file_path, 'r') as file:\n",
    "        return json.load(file)\n",
    "\n",
    "def prepare_data(data):\n",
    "    prepared_data = []\n",
    "    dialog_groups = {}\n",
    "    for entry in data:\n",
    "        dialog_id = entry[0]\n",
    "        if dialog_id not in dialog_groups:\n",
    "            dialog_groups[dialog_id] = []\n",
    "        dialog_groups[dialog_id].append(entry)\n",
    "\n",
    "    for dialog_id, turns in dialog_groups.items():\n",
    "        context = []\n",
    "        for turn in turns:\n",
    "            speaker = turn[2]\n",
    "            text = turn[3]\n",
    "            dialog_act = turn[4][\"dialog_act\"]\n",
    "            # Chỉ xét câu của USER\n",
    "            if speaker == \"USER\":\n",
    "                acts = list(dialog_act.keys())\n",
    "                prepared_data.append({\n",
    "                    \"dialog_id\": dialog_id,\n",
    "                    \"context\": context[:],  \n",
    "                    \"current_utterance\": text,\n",
    "                    \"label\": acts\n",
    "                })\n",
    "            context.append(f\"{speaker}: {text}\")\n",
    "\n",
    "    return prepared_data"
   ]
  },
  {
   "cell_type": "code",
   "execution_count": 15,
   "metadata": {
    "execution": {
     "iopub.execute_input": "2024-12-31T13:41:02.897373Z",
     "iopub.status.busy": "2024-12-31T13:41:02.897175Z",
     "iopub.status.idle": "2024-12-31T13:41:07.005324Z",
     "shell.execute_reply": "2024-12-31T13:41:07.004164Z",
     "shell.execute_reply.started": "2024-12-31T13:41:02.897356Z"
    },
    "trusted": true
   },
   "outputs": [],
   "source": [
    "def save_to_csv(processed_data, output_file):\n",
    "    with open(output_file, 'w', newline='', encoding='utf-8') as csvfile:\n",
    "        writer = csv.writer(csvfile)\n",
    "        writer.writerow(['Dialog_ID', 'Context', 'Current_Utterance', 'Labels'])\n",
    "        for entry in processed_data:\n",
    "            writer.writerow([\n",
    "                entry['dialog_id'],\n",
    "                ' | '.join(entry['context']),\n",
    "                entry['current_utterance'],\n",
    "                '|'.join(entry['label'])       \n",
    "            ])\n",
    "\n",
    "train_data = load_json_data('/kaggle/input/data-v2/train_xy2.json')\n",
    "val_data = load_json_data('/kaggle/input/data-v2/val_xy2.json')\n",
    "test_data = load_json_data('/kaggle/input/data-v2/test_xy2.json')\n",
    "\n",
    "train_processed = prepare_data(train_data)\n",
    "val_processed = prepare_data(val_data)\n",
    "test_processed = prepare_data(test_data)\n",
    "\n",
    "save_to_csv(train_processed, '/kaggle/working/train_processed.csv')\n",
    "save_to_csv(val_processed, '/kaggle/working/val_processed.csv')\n",
    "save_to_csv(test_processed, '/kaggle/working/test_processed.csv')"
   ]
  },
  {
   "cell_type": "code",
   "execution_count": 16,
   "metadata": {
    "execution": {
     "iopub.execute_input": "2024-12-31T13:41:07.007469Z",
     "iopub.status.busy": "2024-12-31T13:41:07.007092Z",
     "iopub.status.idle": "2024-12-31T13:41:07.998999Z",
     "shell.execute_reply": "2024-12-31T13:41:07.998288Z",
     "shell.execute_reply.started": "2024-12-31T13:41:07.007431Z"
    },
    "trusted": true
   },
   "outputs": [],
   "source": [
    "train_df = pd.read_csv('/kaggle/working/train_processed.csv')\n",
    "val_df = pd.read_csv('/kaggle/working/val_processed.csv')\n",
    "test_df = pd.read_csv('/kaggle/working/test_processed.csv')\n",
    "\n",
    "# Kết hợp Context và Current_Utterance để tạo full_input\n",
    "train_df['full_input'] = train_df['Context'].fillna('') + ' ' + train_df['Current_Utterance'].fillna('')\n",
    "val_df['full_input'] = val_df['Context'].fillna('') + ' ' + val_df['Current_Utterance'].fillna('')\n",
    "test_df['full_input'] = test_df['Context'].fillna('') + ' ' + test_df['Current_Utterance'].fillna('')\n",
    "\n",
    "train_df['Labels'] = train_df['Labels'].fillna('').str.split('|')\n",
    "val_df['Labels'] = val_df['Labels'].fillna('').str.split('|')\n",
    "test_df['Labels'] = test_df['Labels'].fillna('').str.split('|')\n",
    "\n",
    "unique_labels = pd.Series(train_df['Labels'].explode()).unique()\n",
    "\n",
    "# Tạo cột one-hot cho từng nhãn\n",
    "for label in unique_labels:\n",
    "    train_df[label] = train_df['Labels'].apply(lambda x: 1 if label in x else 0)\n",
    "    val_df[label] = val_df['Labels'].apply(lambda x: 1 if label in x else 0)\n",
    "    test_df[label] = test_df['Labels'].apply(lambda x: 1 if label in x else 0)"
   ]
  },
  {
   "cell_type": "code",
   "execution_count": 17,
   "metadata": {
    "execution": {
     "iopub.execute_input": "2024-12-31T13:41:07.999960Z",
     "iopub.status.busy": "2024-12-31T13:41:07.999745Z",
     "iopub.status.idle": "2024-12-31T13:41:15.562867Z",
     "shell.execute_reply": "2024-12-31T13:41:15.562123Z",
     "shell.execute_reply.started": "2024-12-31T13:41:07.999939Z"
    },
    "trusted": true
   },
   "outputs": [],
   "source": [
    "X_train = train_df[\"full_input\"].values\n",
    "y_train = train_df[unique_labels].values\n",
    "X_val = val_df[\"full_input\"].values\n",
    "y_val = val_df[unique_labels].values\n",
    "X_test = test_df[\"full_input\"].values\n",
    "y_test = test_df[unique_labels].values\n",
    "\n",
    "# Tokenize và Padding\n",
    "tokenizer = Tokenizer()\n",
    "tokenizer.fit_on_texts(X_train)\n",
    "\n",
    "X_train_tokenized = tokenizer.texts_to_sequences(X_train)\n",
    "X_val_tokenized = tokenizer.texts_to_sequences(X_val)\n",
    "X_test_tokenized = tokenizer.texts_to_sequences(X_test)\n",
    "\n",
    "max_len = max(len(seq) for seq in X_train_tokenized)\n",
    "X_train_padded = pad_sequences(X_train_tokenized, padding='post', maxlen=max_len)\n",
    "X_val_padded = pad_sequences(X_val_tokenized, padding='post', maxlen=max_len)\n",
    "X_test_padded = pad_sequences(X_test_tokenized, padding='post', maxlen=max_len)\n",
    "\n",
    "vocab_size = len(tokenizer.word_index) + 1"
   ]
  },
  {
   "cell_type": "markdown",
   "metadata": {},
   "source": [
    "### **2. Xây dựng mô hình**"
   ]
  },
  {
   "cell_type": "code",
   "execution_count": 18,
   "metadata": {
    "execution": {
     "iopub.execute_input": "2024-12-31T13:41:15.563864Z",
     "iopub.status.busy": "2024-12-31T13:41:15.563656Z",
     "iopub.status.idle": "2024-12-31T13:49:47.399346Z",
     "shell.execute_reply": "2024-12-31T13:49:47.398682Z",
     "shell.execute_reply.started": "2024-12-31T13:41:15.563845Z"
    },
    "trusted": true
   },
   "outputs": [
    {
     "name": "stderr",
     "output_type": "stream",
     "text": [
      "/usr/local/lib/python3.10/dist-packages/keras/src/layers/core/embedding.py:90: UserWarning: Argument `input_length` is deprecated. Just remove it.\n",
      "  warnings.warn(\n"
     ]
    },
    {
     "name": "stdout",
     "output_type": "stream",
     "text": [
      "Epoch 1/100\n",
      "\u001b[1m1775/1775\u001b[0m \u001b[32m━━━━━━━━━━━━━━━━━━━━\u001b[0m\u001b[37m\u001b[0m \u001b[1m44s\u001b[0m 24ms/step - accuracy: 0.4179 - loss: 0.1904 - val_accuracy: 0.7758 - val_loss: 0.0796\n",
      "Epoch 2/100\n",
      "\u001b[1m1775/1775\u001b[0m \u001b[32m━━━━━━━━━━━━━━━━━━━━\u001b[0m\u001b[37m\u001b[0m \u001b[1m43s\u001b[0m 24ms/step - accuracy: 0.8173 - loss: 0.0678 - val_accuracy: 0.8541 - val_loss: 0.0510\n",
      "Epoch 3/100\n",
      "\u001b[1m1775/1775\u001b[0m \u001b[32m━━━━━━━━━━━━━━━━━━━━\u001b[0m\u001b[37m\u001b[0m \u001b[1m43s\u001b[0m 24ms/step - accuracy: 0.8736 - loss: 0.0456 - val_accuracy: 0.8742 - val_loss: 0.0421\n",
      "Epoch 4/100\n",
      "\u001b[1m1775/1775\u001b[0m \u001b[32m━━━━━━━━━━━━━━━━━━━━\u001b[0m\u001b[37m\u001b[0m \u001b[1m42s\u001b[0m 24ms/step - accuracy: 0.8953 - loss: 0.0362 - val_accuracy: 0.8811 - val_loss: 0.0384\n",
      "Epoch 5/100\n",
      "\u001b[1m1775/1775\u001b[0m \u001b[32m━━━━━━━━━━━━━━━━━━━━\u001b[0m\u001b[37m\u001b[0m \u001b[1m42s\u001b[0m 24ms/step - accuracy: 0.9017 - loss: 0.0317 - val_accuracy: 0.8926 - val_loss: 0.0360\n",
      "Epoch 6/100\n",
      "\u001b[1m1775/1775\u001b[0m \u001b[32m━━━━━━━━━━━━━━━━━━━━\u001b[0m\u001b[37m\u001b[0m \u001b[1m43s\u001b[0m 24ms/step - accuracy: 0.9042 - loss: 0.0298 - val_accuracy: 0.8908 - val_loss: 0.0356\n",
      "Epoch 7/100\n",
      "\u001b[1m1775/1775\u001b[0m \u001b[32m━━━━━━━━━━━━━━━━━━━━\u001b[0m\u001b[37m\u001b[0m \u001b[1m42s\u001b[0m 24ms/step - accuracy: 0.9116 - loss: 0.0266 - val_accuracy: 0.8953 - val_loss: 0.0343\n",
      "Epoch 8/100\n",
      "\u001b[1m1775/1775\u001b[0m \u001b[32m━━━━━━━━━━━━━━━━━━━━\u001b[0m\u001b[37m\u001b[0m \u001b[1m43s\u001b[0m 24ms/step - accuracy: 0.9189 - loss: 0.0238 - val_accuracy: 0.8925 - val_loss: 0.0340\n",
      "Epoch 9/100\n",
      "\u001b[1m1775/1775\u001b[0m \u001b[32m━━━━━━━━━━━━━━━━━━━━\u001b[0m\u001b[37m\u001b[0m \u001b[1m43s\u001b[0m 24ms/step - accuracy: 0.9225 - loss: 0.0222 - val_accuracy: 0.8942 - val_loss: 0.0333\n",
      "Epoch 10/100\n",
      "\u001b[1m1775/1775\u001b[0m \u001b[32m━━━━━━━━━━━━━━━━━━━━\u001b[0m\u001b[37m\u001b[0m \u001b[1m42s\u001b[0m 24ms/step - accuracy: 0.9252 - loss: 0.0203 - val_accuracy: 0.8922 - val_loss: 0.0336\n",
      "Epoch 11/100\n",
      "\u001b[1m1775/1775\u001b[0m \u001b[32m━━━━━━━━━━━━━━━━━━━━\u001b[0m\u001b[37m\u001b[0m \u001b[1m42s\u001b[0m 24ms/step - accuracy: 0.9284 - loss: 0.0184 - val_accuracy: 0.8912 - val_loss: 0.0336\n",
      "Epoch 12/100\n",
      "\u001b[1m1775/1775\u001b[0m \u001b[32m━━━━━━━━━━━━━━━━━━━━\u001b[0m\u001b[37m\u001b[0m \u001b[1m42s\u001b[0m 24ms/step - accuracy: 0.9311 - loss: 0.0176 - val_accuracy: 0.8944 - val_loss: 0.0341\n"
     ]
    }
   ],
   "source": [
    "early_stopping = EarlyStopping(monitor='val_loss', patience=3, restore_best_weights=True)\n",
    "\n",
    "model = Sequential([\n",
    "    Embedding(input_dim=vocab_size, output_dim=128, input_length=max_len),\n",
    "    LSTM(64, return_sequences=True),\n",
    "    GlobalMaxPooling1D(),\n",
    "    Dense(len(unique_labels), activation='sigmoid') \n",
    "])\n",
    "\n",
    "model.compile(optimizer='adam', loss='binary_crossentropy', metrics=['accuracy'])\n",
    "\n",
    "history = model.fit(X_train_padded, y_train, epochs=100, batch_size=32,callbacks=[early_stopping], validation_data=(X_val_padded, y_val))\n"
   ]
  },
  {
   "cell_type": "code",
   "execution_count": 19,
   "metadata": {
    "execution": {
     "iopub.execute_input": "2024-12-31T13:49:47.400820Z",
     "iopub.status.busy": "2024-12-31T13:49:47.400590Z",
     "iopub.status.idle": "2024-12-31T13:49:47.917407Z",
     "shell.execute_reply": "2024-12-31T13:49:47.916557Z",
     "shell.execute_reply.started": "2024-12-31T13:49:47.400798Z"
    },
    "trusted": true
   },
   "outputs": [
    {
     "data": {
      "image/png": "[encoded data removed]",
      "text/plain": [
       "<Figure size 1200x600 with 2 Axes>"
      ]
     },
     "metadata": {},
     "output_type": "display_data"
    }
   ],
   "source": [
    "import matplotlib.pyplot as plt\n",
    "train_accuracy = history.history['accuracy']\n",
    "val_accuracy = history.history['val_accuracy']\n",
    "train_loss = history.history['loss']\n",
    "val_loss = history.history['val_loss']\n",
    "\n",
    "plt.figure(figsize=(12, 6))\n",
    "\n",
    "plt.subplot(1, 2, 1)\n",
    "plt.plot(train_accuracy, label='Train Accuracy')\n",
    "plt.plot(val_accuracy, label='Validation Accuracy')\n",
    "plt.title('Model Accuracy')\n",
    "plt.xlabel('Epochs')\n",
    "plt.ylabel('Accuracy')\n",
    "plt.legend()\n",
    "\n",
    "plt.subplot(1, 2, 2)\n",
    "plt.plot(train_loss, label='Train Loss')\n",
    "plt.plot(val_loss, label='Validation Loss')\n",
    "plt.title('Model Loss')\n",
    "plt.xlabel('Epochs')\n",
    "plt.ylabel('Loss')\n",
    "plt.legend()\n",
    "\n",
    "plt.tight_layout()\n",
    "plt.show()\n"
   ]
  },
  {
   "cell_type": "markdown",
   "metadata": {},
   "source": [
    "### **3. Đánh giá mô hình trên tập test**"
   ]
  },
  {
   "cell_type": "code",
   "execution_count": 20,
   "metadata": {
    "execution": {
     "iopub.execute_input": "2024-12-31T13:49:47.918631Z",
     "iopub.status.busy": "2024-12-31T13:49:47.918284Z",
     "iopub.status.idle": "2024-12-31T13:49:50.610896Z",
     "shell.execute_reply": "2024-12-31T13:49:50.609982Z",
     "shell.execute_reply.started": "2024-12-31T13:49:47.918597Z"
    },
    "trusted": true
   },
   "outputs": [
    {
     "name": "stdout",
     "output_type": "stream",
     "text": [
      "\u001b[1m231/231\u001b[0m \u001b[32m━━━━━━━━━━━━━━━━━━━━\u001b[0m\u001b[37m\u001b[0m \u001b[1m2s\u001b[0m 10ms/step\n",
      "Accuracy: 0.8619099294628323\n",
      "Precision: 0.9265363485371151\n",
      "Recall: 0.8977469670710572\n",
      "F1 Score: 0.9119144922980195\n"
     ]
    }
   ],
   "source": [
    "y_pred = model.predict(X_test_padded)\n",
    "\n",
    "y_pred_bin = (y_pred > 0.5).astype(int)\n",
    "\n",
    "accuracy = accuracy_score(y_test, y_pred_bin)\n",
    "precision = precision_score(y_test, y_pred_bin, average='micro')\n",
    "recall = recall_score(y_test, y_pred_bin, average='micro')\n",
    "f1 = f1_score(y_test, y_pred_bin, average='micro')\n",
    "\n",
    "print(f\"Accuracy: {accuracy}\")\n",
    "print(f\"Precision: {precision}\")\n",
    "print(f\"Recall: {recall}\")\n",
    "print(f\"F1 Score: {f1}\")\n"
   ]
  },
  {
   "cell_type": "markdown",
   "metadata": {},
   "source": [
    "### **4. Lưu lại mô hình đã huấn luyện**"
   ]
  },
  {
   "cell_type": "code",
   "execution_count": 21,
   "metadata": {
    "execution": {
     "iopub.execute_input": "2024-12-31T13:49:50.613294Z",
     "iopub.status.busy": "2024-12-31T13:49:50.613025Z",
     "iopub.status.idle": "2024-12-31T13:49:50.668386Z",
     "shell.execute_reply": "2024-12-31T13:49:50.667447Z",
     "shell.execute_reply.started": "2024-12-31T13:49:50.613271Z"
    },
    "trusted": true
   },
   "outputs": [
    {
     "name": "stdout",
     "output_type": "stream",
     "text": [
      "Model saved to /kaggle/working/trained_model_context.h5\n"
     ]
    }
   ],
   "source": [
    "from tensorflow.keras.models import save_model\n",
    "\n",
    "model.save('/kaggle/working/trained_model_context.h5')\n",
    "print(\"Model saved to /kaggle/working/trained_model_context.h5\")"
   ]
  },
  {
   "cell_type": "code",
   "execution_count": 22,
   "metadata": {
    "execution": {
     "iopub.execute_input": "2024-12-31T13:49:50.669941Z",
     "iopub.status.busy": "2024-12-31T13:49:50.669614Z",
     "iopub.status.idle": "2024-12-31T13:49:50.685825Z",
     "shell.execute_reply": "2024-12-31T13:49:50.684988Z",
     "shell.execute_reply.started": "2024-12-31T13:49:50.669904Z"
    },
    "trusted": true
   },
   "outputs": [],
   "source": [
    "import pickle\n",
    "with open('/kaggle/working/tokenizer_context.pkl', 'wb') as f:\n",
    "    pickle.dump(tokenizer, f)\n",
    "\n",
    "with open('metadata.json', 'w') as f:\n",
    "    json.dump({\n",
    "        'unique_labels': unique_labels.tolist(),\n",
    "        'max_len': max_len\n",
    "    }, f)"
   ]
  },
  {
   "cell_type": "markdown",
   "metadata": {},
   "source": [
    "### **5. Sử dụng mô hình đã lưu đưa ra dự đoán**"
   ]
  },
  {
   "cell_type": "code",
   "execution_count": 23,
   "metadata": {
    "execution": {
     "iopub.execute_input": "2024-12-31T13:49:50.687041Z",
     "iopub.status.busy": "2024-12-31T13:49:50.686718Z",
     "iopub.status.idle": "2024-12-31T13:49:50.749468Z",
     "shell.execute_reply": "2024-12-31T13:49:50.748536Z",
     "shell.execute_reply.started": "2024-12-31T13:49:50.687004Z"
    },
    "trusted": true
   },
   "outputs": [],
   "source": [
    "from tensorflow.keras.models import load_model\n",
    "\n",
    "model = load_model('/kaggle/working/trained_model_context.h5')\n"
   ]
  },
  {
   "cell_type": "code",
   "execution_count": 24,
   "metadata": {
    "execution": {
     "iopub.execute_input": "2024-12-31T13:49:50.750829Z",
     "iopub.status.busy": "2024-12-31T13:49:50.750568Z",
     "iopub.status.idle": "2024-12-31T13:49:50.759145Z",
     "shell.execute_reply": "2024-12-31T13:49:50.758533Z",
     "shell.execute_reply.started": "2024-12-31T13:49:50.750805Z"
    },
    "trusted": true
   },
   "outputs": [],
   "source": [
    "import pickle\n",
    "\n",
    "with open('tokenizer.pkl', 'rb') as handle:\n",
    "    tokenizer = pickle.load(handle)\n",
    "with open('metadata.json', 'r') as f:\n",
    "    metadata = json.load(f)\n",
    "    unique_labels = metadata['unique_labels']\n",
    "    max_len = metadata['max_len']"
   ]
  },
  {
   "cell_type": "code",
   "execution_count": 26,
   "metadata": {
    "execution": {
     "iopub.execute_input": "2024-12-31T13:51:03.478480Z",
     "iopub.status.busy": "2024-12-31T13:51:03.478091Z",
     "iopub.status.idle": "2024-12-31T13:51:03.548440Z",
     "shell.execute_reply": "2024-12-31T13:51:03.547771Z",
     "shell.execute_reply.started": "2024-12-31T13:51:03.478444Z"
    },
    "trusted": true
   },
   "outputs": [
    {
     "name": "stdout",
     "output_type": "stream",
     "text": [
      "\u001b[1m1/1\u001b[0m \u001b[32m━━━━━━━━━━━━━━━━━━━━\u001b[0m\u001b[37m\u001b[0m \u001b[1m0s\u001b[0m 25ms/step\n",
      "Predicted labels: ['Restaurant-Inform']\n"
     ]
    }
   ],
   "source": [
    "from tensorflow.keras.preprocessing.sequence import pad_sequences\n",
    "\n",
    "context = \"USER: Hello, I am looking for a restaurant in Cambridge. I believe it is called Golden Wok. SYSTEM: It is located at 191 Histon Road Chesterton\"\n",
    "new_sentence = context + \"Can you book me a table for 11:00 on Friday?\"\n",
    "\n",
    "new_sentence_tokenized = tokenizer.texts_to_sequences([new_sentence])\n",
    "new_sentence_padded = pad_sequences(new_sentence_tokenized, padding='post', maxlen=max_len)\n",
    "\n",
    "prediction = model.predict(new_sentence_padded)\n",
    "\n",
    "predicted_labels = [unique_labels[i] for i in range(len(prediction[0])) if prediction[0][i] >= 0.5]\n",
    "\n",
    "print(\"Predicted labels:\", predicted_labels)"
   ]
  }
 ],
 "metadata": {
  "kaggle": {
   "accelerator": "nvidiaTeslaT4",
   "dataSources": [
    {
     "datasetId": 6374897,
     "sourceId": 10299419,
     "sourceType": "datasetVersion"
    },
    {
     "datasetId": 6387568,
     "sourceId": 10317482,
     "sourceType": "datasetVersion"
    }
   ],
   "dockerImageVersionId": 30823,
   "isGpuEnabled": true,
   "isInternetEnabled": true,
   "language": "python",
   "sourceType": "notebook"
  },
  "kernelspec": {
   "display_name": "Python 3",
   "language": "python",
   "name": "python3"
  },
  "language_info": {
   "codemirror_mode": {
    "name": "ipython",
    "version": 3
   },
   "file_extension": ".py",
   "mimetype": "text/x-python",
   "name": "python",
   "nbconvert_exporter": "python",
   "pygments_lexer": "ipython3",
   "version": "3.10.12"
  }
 },
 "nbformat": 4,
 "nbformat_minor": 4
}
