{
 "cells": [
  {
   "cell_type": "code",
   "execution_count": 1,
   "id": "49dc55a7",
   "metadata": {
    "execution": {
     "iopub.execute_input": "2024-12-31T02:05:52.642601Z",
     "iopub.status.busy": "2024-12-31T02:05:52.642303Z",
     "iopub.status.idle": "2024-12-31T02:06:03.457305Z",
     "shell.execute_reply": "2024-12-31T02:06:03.456240Z"
    },
    "papermill": {
     "duration": 10.820399,
     "end_time": "2024-12-31T02:06:03.458891",
     "exception": false,
     "start_time": "2024-12-31T02:05:52.638492",
     "status": "completed"
    },
    "tags": []
   },
   "outputs": [],
   "source": [
    "import json\n",
    "import pandas as pd\n",
    "import csv\n",
    "from tensorflow.keras.preprocessing.text import Tokenizer\n",
    "from tensorflow.keras.preprocessing.sequence import pad_sequences\n",
    "from sklearn.model_selection import train_test_split\n",
    "from tensorflow.keras.models import Sequential\n",
    "from tensorflow.keras.layers import Embedding, LSTM, Dense, GlobalMaxPooling1D\n",
    "from tensorflow.keras.models import load_model\n",
    "from sklearn.metrics import accuracy_score, precision_score, recall_score, f1_score\n",
    "from tensorflow.keras.callbacks import EarlyStopping"
   ]
  },
  {
   "cell_type": "markdown",
   "id": "2b274db5",
   "metadata": {},
   "source": [
    "### **1. Tiền xử lý dữ liệu cho mô hình**"
   ]
  },
  {
   "cell_type": "code",
   "execution_count": 2,
   "id": "2ed7a920",
   "metadata": {
    "execution": {
     "iopub.execute_input": "2024-12-31T02:06:03.464798Z",
     "iopub.status.busy": "2024-12-31T02:06:03.464319Z",
     "iopub.status.idle": "2024-12-31T02:06:03.470009Z",
     "shell.execute_reply": "2024-12-31T02:06:03.469214Z"
    },
    "papermill": {
     "duration": 0.009764,
     "end_time": "2024-12-31T02:06:03.471318",
     "exception": false,
     "start_time": "2024-12-31T02:06:03.461554",
     "status": "completed"
    },
    "tags": []
   },
   "outputs": [],
   "source": [
    "\n",
    "def load_json_data(file_path):\n",
    "    with open(file_path, 'r') as file:\n",
    "        return json.load(file)\n",
    "\n",
    "def prepare_data(data):\n",
    "    prepared_data = []\n",
    "    dialog_groups = {}\n",
    "    for entry in data:\n",
    "        dialog_id = entry[0]\n",
    "        if dialog_id not in dialog_groups:\n",
    "            dialog_groups[dialog_id] = []\n",
    "        dialog_groups[dialog_id].append(entry)\n",
    "\n",
    "    for dialog_id, turns in dialog_groups.items():\n",
    "        context = []\n",
    "        for turn in turns:\n",
    "            speaker = turn[2]\n",
    "            text = turn[3]\n",
    "            dialog_act = turn[4][\"dialog_act\"]\n",
    "            if speaker == \"USER\":\n",
    "                acts = list(dialog_act.keys())\n",
    "                prepared_data.append({\n",
    "                    \"dialog_id\": dialog_id,\n",
    "                    \"context\": context[:],  \n",
    "                    \"current_utterance\": text,\n",
    "                    \"label\": acts\n",
    "                })\n",
    "            context.append(f\"{speaker}: {text}\")\n",
    "\n",
    "    return prepared_data"
   ]
  },
  {
   "cell_type": "code",
   "execution_count": 3,
   "id": "7c8aa9c7",
   "metadata": {
    "execution": {
     "iopub.execute_input": "2024-12-31T02:06:03.476199Z",
     "iopub.status.busy": "2024-12-31T02:06:03.475977Z",
     "iopub.status.idle": "2024-12-31T02:06:08.378564Z",
     "shell.execute_reply": "2024-12-31T02:06:08.377641Z"
    },
    "papermill": {
     "duration": 4.906854,
     "end_time": "2024-12-31T02:06:08.380285",
     "exception": false,
     "start_time": "2024-12-31T02:06:03.473431",
     "status": "completed"
    },
    "tags": []
   },
   "outputs": [],
   "source": [
    "\n",
    "def save_to_csv(processed_data, output_file):\n",
    "    with open(output_file, 'w', newline='', encoding='utf-8') as csvfile:\n",
    "        writer = csv.writer(csvfile)\n",
    "        writer.writerow(['Dialog_ID', 'Context', 'Current_Utterance', 'Labels'])\n",
    "        for entry in processed_data:\n",
    "            writer.writerow([\n",
    "                entry['dialog_id'],\n",
    "                ' | '.join(entry['context']),\n",
    "                entry['current_utterance'],\n",
    "                '|'.join(entry['label'])       \n",
    "            ])\n",
    "\n",
    "train_data = load_json_data('/kaggle/input/data-v2/train_xy2.json')\n",
    "val_data = load_json_data('/kaggle/input/data-v2/val_xy2.json')\n",
    "test_data = load_json_data('/kaggle/input/data-v2/test_xy2.json')\n",
    "\n",
    "train_processed = prepare_data(train_data)\n",
    "val_processed = prepare_data(val_data)\n",
    "test_processed = prepare_data(test_data)\n",
    "\n",
    "save_to_csv(train_processed, '/kaggle/working/train_processed.csv')\n",
    "save_to_csv(val_processed, '/kaggle/working/val_processed.csv')\n",
    "save_to_csv(test_processed, '/kaggle/working/test_processed.csv')"
   ]
  },
  {
   "cell_type": "code",
   "execution_count": 4,
   "id": "4d350f1c",
   "metadata": {
    "execution": {
     "iopub.execute_input": "2024-12-31T02:06:08.386074Z",
     "iopub.status.busy": "2024-12-31T02:06:08.385832Z",
     "iopub.status.idle": "2024-12-31T02:06:09.323153Z",
     "shell.execute_reply": "2024-12-31T02:06:09.322425Z"
    },
    "papermill": {
     "duration": 0.941917,
     "end_time": "2024-12-31T02:06:09.324804",
     "exception": false,
     "start_time": "2024-12-31T02:06:08.382887",
     "status": "completed"
    },
    "tags": []
   },
   "outputs": [],
   "source": [
    "\n",
    "train_df = pd.read_csv('/kaggle/working/train_processed.csv')\n",
    "val_df = pd.read_csv('/kaggle/working/val_processed.csv')\n",
    "test_df = pd.read_csv('/kaggle/working/test_processed.csv')\n",
    "\n",
    "train_df['Labels'] = train_df['Labels'].fillna('').str.split('|')\n",
    "val_df['Labels'] = val_df['Labels'].fillna('').str.split('|')\n",
    "test_df['Labels'] = test_df['Labels'].fillna('').str.split('|')\n",
    "\n",
    "unique_labels = pd.Series(train_df['Labels'].explode()).unique()\n",
    "\n",
    "for label in unique_labels:\n",
    "    train_df[label] = train_df['Labels'].apply(lambda x: 1 if label in x else 0)\n",
    "    val_df[label] = val_df['Labels'].apply(lambda x: 1 if label in x else 0)\n",
    "    test_df[label] = test_df['Labels'].apply(lambda x: 1 if label in x else 0)"
   ]
  },
  {
   "cell_type": "code",
   "execution_count": 5,
   "id": "0a910f89",
   "metadata": {
    "execution": {
     "iopub.execute_input": "2024-12-31T02:06:09.330549Z",
     "iopub.status.busy": "2024-12-31T02:06:09.330303Z",
     "iopub.status.idle": "2024-12-31T02:06:11.370876Z",
     "shell.execute_reply": "2024-12-31T02:06:11.370128Z"
    },
    "papermill": {
     "duration": 2.045187,
     "end_time": "2024-12-31T02:06:11.372551",
     "exception": false,
     "start_time": "2024-12-31T02:06:09.327364",
     "status": "completed"
    },
    "tags": []
   },
   "outputs": [],
   "source": [
    "X_train = train_df[\"Current_Utterance\"].values\n",
    "y_train = train_df[unique_labels].values\n",
    "X_val = val_df[\"Current_Utterance\"].values\n",
    "y_val = val_df[unique_labels].values\n",
    "X_test = test_df[\"Current_Utterance\"].values\n",
    "y_test = test_df[unique_labels].values\n",
    "\n",
    "# Tokenize và Padding\n",
    "tokenizer = Tokenizer()\n",
    "tokenizer.fit_on_texts(X_train)\n",
    "\n",
    "X_train_tokenized = tokenizer.texts_to_sequences(X_train)\n",
    "X_val_tokenized = tokenizer.texts_to_sequences(X_val)\n",
    "X_test_tokenized = tokenizer.texts_to_sequences(X_test)\n",
    "\n",
    "max_len = max(len(seq) for seq in X_train_tokenized)\n",
    "X_train_padded = pad_sequences(X_train_tokenized, padding='post', maxlen=max_len)\n",
    "X_val_padded = pad_sequences(X_val_tokenized, padding='post', maxlen=max_len)\n",
    "X_test_padded = pad_sequences(X_test_tokenized, padding='post', maxlen=max_len)\n",
    "\n",
    "vocab_size = len(tokenizer.word_index) + 1"
   ]
  },
  {
   "cell_type": "markdown",
   "id": "b234112e",
   "metadata": {},
   "source": [
    "### **2. Xây dựng mô hình**"
   ]
  },
  {
   "cell_type": "code",
   "execution_count": 6,
   "id": "bfc1503f",
   "metadata": {
    "execution": {
     "iopub.execute_input": "2024-12-31T02:06:11.378259Z",
     "iopub.status.busy": "2024-12-31T02:06:11.378024Z",
     "iopub.status.idle": "2024-12-31T02:08:09.798386Z",
     "shell.execute_reply": "2024-12-31T02:08:09.797687Z"
    },
    "papermill": {
     "duration": 118.424706,
     "end_time": "2024-12-31T02:08:09.799870",
     "exception": false,
     "start_time": "2024-12-31T02:06:11.375164",
     "status": "completed"
    },
    "tags": []
   },
   "outputs": [
    {
     "name": "stderr",
     "output_type": "stream",
     "text": [
      "/usr/local/lib/python3.10/dist-packages/keras/src/layers/core/embedding.py:90: UserWarning: Argument `input_length` is deprecated. Just remove it.\n",
      "  warnings.warn(\n"
     ]
    },
    {
     "name": "stdout",
     "output_type": "stream",
     "text": [
      "Epoch 1/100\n",
      "\u001b[1m1775/1775\u001b[0m \u001b[32m━━━━━━━━━━━━━━━━━━━━\u001b[0m\u001b[37m\u001b[0m \u001b[1m13s\u001b[0m 5ms/step - accuracy: 0.4961 - loss: 0.1764 - val_accuracy: 0.8358 - val_loss: 0.0551\n",
      "Epoch 2/100\n",
      "\u001b[1m1775/1775\u001b[0m \u001b[32m━━━━━━━━━━━━━━━━━━━━\u001b[0m\u001b[37m\u001b[0m \u001b[1m9s\u001b[0m 5ms/step - accuracy: 0.8264 - loss: 0.0535 - val_accuracy: 0.8451 - val_loss: 0.0467\n",
      "Epoch 3/100\n",
      "\u001b[1m1775/1775\u001b[0m \u001b[32m━━━━━━━━━━━━━━━━━━━━\u001b[0m\u001b[37m\u001b[0m \u001b[1m9s\u001b[0m 5ms/step - accuracy: 0.8452 - loss: 0.0447 - val_accuracy: 0.8491 - val_loss: 0.0438\n",
      "Epoch 4/100\n",
      "\u001b[1m1775/1775\u001b[0m \u001b[32m━━━━━━━━━━━━━━━━━━━━\u001b[0m\u001b[37m\u001b[0m \u001b[1m9s\u001b[0m 5ms/step - accuracy: 0.8517 - loss: 0.0406 - val_accuracy: 0.8523 - val_loss: 0.0434\n",
      "Epoch 5/100\n",
      "\u001b[1m1775/1775\u001b[0m \u001b[32m━━━━━━━━━━━━━━━━━━━━\u001b[0m\u001b[37m\u001b[0m \u001b[1m9s\u001b[0m 5ms/step - accuracy: 0.8564 - loss: 0.0383 - val_accuracy: 0.8511 - val_loss: 0.0425\n",
      "Epoch 6/100\n",
      "\u001b[1m1775/1775\u001b[0m \u001b[32m━━━━━━━━━━━━━━━━━━━━\u001b[0m\u001b[37m\u001b[0m \u001b[1m9s\u001b[0m 5ms/step - accuracy: 0.8609 - loss: 0.0365 - val_accuracy: 0.8481 - val_loss: 0.0418\n",
      "Epoch 7/100\n",
      "\u001b[1m1775/1775\u001b[0m \u001b[32m━━━━━━━━━━━━━━━━━━━━\u001b[0m\u001b[37m\u001b[0m \u001b[1m9s\u001b[0m 5ms/step - accuracy: 0.8602 - loss: 0.0356 - val_accuracy: 0.8470 - val_loss: 0.0416\n",
      "Epoch 8/100\n",
      "\u001b[1m1775/1775\u001b[0m \u001b[32m━━━━━━━━━━━━━━━━━━━━\u001b[0m\u001b[37m\u001b[0m \u001b[1m9s\u001b[0m 5ms/step - accuracy: 0.8645 - loss: 0.0341 - val_accuracy: 0.8503 - val_loss: 0.0418\n",
      "Epoch 9/100\n",
      "\u001b[1m1775/1775\u001b[0m \u001b[32m━━━━━━━━━━━━━━━━━━━━\u001b[0m\u001b[37m\u001b[0m \u001b[1m9s\u001b[0m 5ms/step - accuracy: 0.8708 - loss: 0.0324 - val_accuracy: 0.8507 - val_loss: 0.0413\n",
      "Epoch 10/100\n",
      "\u001b[1m1775/1775\u001b[0m \u001b[32m━━━━━━━━━━━━━━━━━━━━\u001b[0m\u001b[37m\u001b[0m \u001b[1m9s\u001b[0m 5ms/step - accuracy: 0.8725 - loss: 0.0318 - val_accuracy: 0.8488 - val_loss: 0.0413\n",
      "Epoch 11/100\n",
      "\u001b[1m1775/1775\u001b[0m \u001b[32m━━━━━━━━━━━━━━━━━━━━\u001b[0m\u001b[37m\u001b[0m \u001b[1m9s\u001b[0m 5ms/step - accuracy: 0.8741 - loss: 0.0310 - val_accuracy: 0.8443 - val_loss: 0.0427\n",
      "Epoch 12/100\n",
      "\u001b[1m1775/1775\u001b[0m \u001b[32m━━━━━━━━━━━━━━━━━━━━\u001b[0m\u001b[37m\u001b[0m \u001b[1m9s\u001b[0m 5ms/step - accuracy: 0.8768 - loss: 0.0303 - val_accuracy: 0.8491 - val_loss: 0.0427\n",
      "Epoch 13/100\n",
      "\u001b[1m1775/1775\u001b[0m \u001b[32m━━━━━━━━━━━━━━━━━━━━\u001b[0m\u001b[37m\u001b[0m \u001b[1m9s\u001b[0m 5ms/step - accuracy: 0.8805 - loss: 0.0294 - val_accuracy: 0.8478 - val_loss: 0.0427\n"
     ]
    }
   ],
   "source": [
    "early_stopping = EarlyStopping(monitor='val_loss', patience=3, restore_best_weights=True)\n",
    "model = Sequential([\n",
    "    Embedding(input_dim=vocab_size, output_dim=128, input_length=max_len),\n",
    "    LSTM(64, return_sequences=True),\n",
    "    GlobalMaxPooling1D(),\n",
    "    Dense(len(unique_labels), activation='sigmoid')\n",
    "])\n",
    "\n",
    "model.compile(optimizer='adam', loss='binary_crossentropy', metrics=['accuracy'])\n",
    "\n",
    "history = model.fit(X_train_padded, y_train, epochs=100, batch_size=32,callbacks=[early_stopping], validation_data=(X_val_padded, y_val))\n"
   ]
  },
  {
   "cell_type": "code",
   "execution_count": 7,
   "id": "57c62777",
   "metadata": {
    "execution": {
     "iopub.execute_input": "2024-12-31T02:08:09.996079Z",
     "iopub.status.busy": "2024-12-31T02:08:09.995776Z",
     "iopub.status.idle": "2024-12-31T02:08:10.588596Z",
     "shell.execute_reply": "2024-12-31T02:08:10.587759Z"
    },
    "papermill": {
     "duration": 0.691112,
     "end_time": "2024-12-31T02:08:10.590306",
     "exception": false,
     "start_time": "2024-12-31T02:08:09.899194",
     "status": "completed"
    },
    "tags": []
   },
   "outputs": [
    {
     "name": "stdout",
     "output_type": "stream",
     "text": [
      "Model saved to /kaggle/working/trained_model1.h5\n"
     ]
    },
    {
     "data": {
      "image/png": "[encoded data removed]",
      "text/plain": [
       "<Figure size 1200x600 with 2 Axes>"
      ]
     },
     "metadata": {},
     "output_type": "display_data"
    }
   ],
   "source": [
    "from tensorflow.keras.models import save_model\n",
    "import matplotlib.pyplot as plt\n",
    "\n",
    "model.save('/kaggle/working/trained_model1.h5')\n",
    "print(\"Model saved to /kaggle/working/trained_model1.h5\")\n",
    "\n",
    "train_accuracy = history.history['accuracy']\n",
    "val_accuracy = history.history['val_accuracy']\n",
    "train_loss = history.history['loss']\n",
    "val_loss = history.history['val_loss']\n",
    "\n",
    "plt.figure(figsize=(12, 6))\n",
    "\n",
    "plt.subplot(1, 2, 1)\n",
    "plt.plot(train_accuracy, label='Train Accuracy')\n",
    "plt.plot(val_accuracy, label='Validation Accuracy')\n",
    "plt.title('Model Accuracy')\n",
    "plt.xlabel('Epochs')\n",
    "plt.ylabel('Accuracy')\n",
    "plt.legend()\n",
    "\n",
    "plt.subplot(1, 2, 2)\n",
    "plt.plot(train_loss, label='Train Loss')\n",
    "plt.plot(val_loss, label='Validation Loss')\n",
    "plt.title('Model Loss')\n",
    "plt.xlabel('Epochs')\n",
    "plt.ylabel('Loss')\n",
    "plt.legend()\n",
    "\n",
    "plt.tight_layout()\n",
    "plt.show()\n"
   ]
  },
  {
   "cell_type": "markdown",
   "id": "4ceb7d19",
   "metadata": {},
   "source": [
    "### **3. Đánh giá kết quả trên tập test**"
   ]
  },
  {
   "cell_type": "code",
   "execution_count": 8,
   "id": "f102bac8",
   "metadata": {
    "execution": {
     "iopub.execute_input": "2024-12-31T02:08:10.782966Z",
     "iopub.status.busy": "2024-12-31T02:08:10.782629Z",
     "iopub.status.idle": "2024-12-31T02:08:11.747455Z",
     "shell.execute_reply": "2024-12-31T02:08:11.746695Z"
    },
    "papermill": {
     "duration": 1.061025,
     "end_time": "2024-12-31T02:08:11.748877",
     "exception": false,
     "start_time": "2024-12-31T02:08:10.687852",
     "status": "completed"
    },
    "tags": []
   },
   "outputs": [
    {
     "name": "stdout",
     "output_type": "stream",
     "text": [
      "\u001b[1m231/231\u001b[0m \u001b[32m━━━━━━━━━━━━━━━━━━━━\u001b[0m\u001b[37m\u001b[0m \u001b[1m1s\u001b[0m 2ms/step\n",
      "Accuracy: 0.8020889853499729\n",
      "Precision: 0.9026666666666666\n",
      "Recall: 0.8380787323594949\n",
      "F1 Score: 0.8691744768262936\n"
     ]
    }
   ],
   "source": [
    "y_pred = model.predict(X_test_padded)\n",
    "\n",
    "y_pred_bin = (y_pred > 0.5).astype(int)\n",
    "\n",
    "accuracy = accuracy_score(y_test, y_pred_bin)\n",
    "precision = precision_score(y_test, y_pred_bin, average='micro')\n",
    "recall = recall_score(y_test, y_pred_bin, average='micro')\n",
    "f1 = f1_score(y_test, y_pred_bin, average='micro')\n",
    "\n",
    "print(f\"Accuracy: {accuracy}\")\n",
    "print(f\"Precision: {precision}\")\n",
    "print(f\"Recall: {recall}\")\n",
    "print(f\"F1 Score: {f1}\")\n"
   ]
  },
  {
   "cell_type": "markdown",
   "id": "57af9b0f",
   "metadata": {},
   "source": [
    "### **3. Lưu lại mô hình đã huấn luyện**"
   ]
  },
  {
   "cell_type": "code",
   "execution_count": 9,
   "id": "05804aff",
   "metadata": {
    "execution": {
     "iopub.execute_input": "2024-12-31T02:08:11.980241Z",
     "iopub.status.busy": "2024-12-31T02:08:11.979956Z",
     "iopub.status.idle": "2024-12-31T02:08:11.985798Z",
     "shell.execute_reply": "2024-12-31T02:08:11.985147Z"
    },
    "papermill": {
     "duration": 0.140745,
     "end_time": "2024-12-31T02:08:11.986990",
     "exception": false,
     "start_time": "2024-12-31T02:08:11.846245",
     "status": "completed"
    },
    "tags": []
   },
   "outputs": [],
   "source": [
    "import pickle\n",
    "\n",
    "with open('/kaggle/working/tokenizer.pkl', 'wb') as f:\n",
    "    pickle.dump(tokenizer, f)\n",
    "\n",
    "with open('/kaggle/working/metadata.json', 'w') as f:\n",
    "    json.dump({\n",
    "        'unique_labels': unique_labels.tolist(),\n",
    "        'max_len': max_len\n",
    "    }, f)\n"
   ]
  },
  {
   "cell_type": "markdown",
   "id": "2b7874a6",
   "metadata": {},
   "source": [
    "### **4. Sử dụng mô hình đã huấn luyện để dự đoán**"
   ]
  },
  {
   "cell_type": "code",
   "execution_count": null,
   "id": "bd9bebb3",
   "metadata": {},
   "outputs": [],
   "source": [
    "from tensorflow.keras.models import load_model\n",
    "\n",
    "model = load_model('/kaggle/working/trained_model1.h5')\n",
    "with open('/kaggle/working/tokenizer.pkl', 'rb') as handle:\n",
    "    tokenizer = pickle.load(handle)\n",
    "with open('/kaggle/working/metadata.json', 'r') as f:\n",
    "    metadata = json.load(f)\n",
    "    unique_labels = metadata['unique_labels']\n",
    "    max_len = metadata['max_len']\n"
   ]
  },
  {
   "cell_type": "code",
   "execution_count": null,
   "id": "2e70b505",
   "metadata": {},
   "outputs": [
    {
     "name": "stdout",
     "output_type": "stream",
     "text": [
      "\u001b[1m1/1\u001b[0m \u001b[32m━━━━━━━━━━━━━━━━━━━━\u001b[0m\u001b[37m\u001b[0m \u001b[1m0s\u001b[0m 17ms/step\n",
      "Predicted labels: ['Restaurant-Inform']\n"
     ]
    }
   ],
   "source": [
    "from tensorflow.keras.preprocessing.sequence import pad_sequences\n",
    "\n",
    "new_sentence = \"Can you book me a table for 11:00 on Friday?\"\n",
    "\n",
    "new_sentence_tokenized = tokenizer.texts_to_sequences([new_sentence])\n",
    "new_sentence_padded = pad_sequences(new_sentence_tokenized, padding='post', maxlen=max_len)\n",
    "\n",
    "prediction = model.predict(new_sentence_padded)\n",
    "predicted_labels = [unique_labels[i] for i in range(len(prediction[0])) if prediction[0][i] >= 0.5]\n",
    "\n",
    "print(\"Predicted labels:\", predicted_labels)"
   ]
  }
 ],
 "metadata": {
  "kaggle": {
   "accelerator": "nvidiaTeslaT4",
   "dataSources": [
    {
     "datasetId": 6374897,
     "sourceId": 10299419,
     "sourceType": "datasetVersion"
    },
    {
     "datasetId": 6387568,
     "sourceId": 10317482,
     "sourceType": "datasetVersion"
    }
   ],
   "dockerImageVersionId": 30823,
   "isGpuEnabled": true,
   "isInternetEnabled": true,
   "language": "python",
   "sourceType": "notebook"
  },
  "kernelspec": {
   "display_name": "Python 3",
   "language": "python",
   "name": "python3"
  },
  "language_info": {
   "codemirror_mode": {
    "name": "ipython",
    "version": 3
   },
   "file_extension": ".py",
   "mimetype": "text/x-python",
   "name": "python",
   "nbconvert_exporter": "python",
   "pygments_lexer": "ipython3",
   "version": "3.10.12"
  },
  "papermill": {
   "default_parameters": {},
   "duration": 144.880803,
   "end_time": "2024-12-31T02:08:15.085045",
   "environment_variables": {},
   "exception": null,
   "input_path": "__notebook__.ipynb",
   "output_path": "__notebook__.ipynb",
   "parameters": {},
   "start_time": "2024-12-31T02:05:50.204242",
   "version": "2.6.0"
  }
 },
 "nbformat": 4,
 "nbformat_minor": 5
}
